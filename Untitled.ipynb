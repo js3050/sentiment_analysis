{
 "cells": [
  {
   "cell_type": "code",
   "execution_count": 61,
   "id": "valued-sandwich",
   "metadata": {},
   "outputs": [],
   "source": [
    "import pandas as pd\n",
    "import mysql.connector\n",
    "import json\n",
    "from sklearn.model_selection import train_test_split\n",
    "import spacy"
   ]
  },
  {
   "cell_type": "code",
   "execution_count": 2,
   "id": "clean-update",
   "metadata": {},
   "outputs": [],
   "source": [
    "connection = mysql.connector.connect(host=\"localhost\", username=\"root\", password=\"\", database=\"sentiment_store\")"
   ]
  },
  {
   "cell_type": "code",
   "execution_count": 3,
   "id": "adjacent-schema",
   "metadata": {},
   "outputs": [],
   "source": [
    "cur = connection.cursor()"
   ]
  },
  {
   "cell_type": "code",
   "execution_count": 4,
   "id": "mature-gibraltar",
   "metadata": {},
   "outputs": [],
   "source": [
    "cur.execute(\"SELECT * from preprocesstable\")"
   ]
  },
  {
   "cell_type": "code",
   "execution_count": 5,
   "id": "gothic-driver",
   "metadata": {},
   "outputs": [],
   "source": [
    "data = cur.fetchall()"
   ]
  },
  {
   "cell_type": "code",
   "execution_count": 37,
   "id": "exterior-setup",
   "metadata": {},
   "outputs": [],
   "source": [
    "X = []\n",
    "y= []\n",
    "for each in data:\n",
    "    X.append(\" \".join(json.loads(each[0])))\n",
    "    y.append(each[1])"
   ]
  },
  {
   "cell_type": "code",
   "execution_count": 38,
   "id": "medical-raleigh",
   "metadata": {},
   "outputs": [],
   "source": [
    "X= pd.DataFrame(X)"
   ]
  },
  {
   "cell_type": "code",
   "execution_count": 39,
   "id": "given-mirror",
   "metadata": {},
   "outputs": [],
   "source": [
    "y= pd.DataFrame(y)"
   ]
  },
  {
   "cell_type": "code",
   "execution_count": 40,
   "id": "norwegian-chorus",
   "metadata": {},
   "outputs": [],
   "source": [
    "y = y.replace({\"positive\":1, \"negative\":0})"
   ]
  },
  {
   "cell_type": "code",
   "execution_count": 41,
   "id": "prospective-democracy",
   "metadata": {},
   "outputs": [],
   "source": [
    "X_train, X_test, y_train, y_test = train_test_split(X, y)"
   ]
  },
  {
   "cell_type": "code",
   "execution_count": 65,
   "id": "annoying-density",
   "metadata": {},
   "outputs": [],
   "source": [
    "from sklearn.feature_extraction.text import TfidfVectorizer\n",
    "from sklearn.neural_network import MLPClassifier\n",
    "from sklearn.pipeline import Pipeline\n",
    "import string"
   ]
  },
  {
   "cell_type": "code",
   "execution_count": 66,
   "id": "supposed-provincial",
   "metadata": {},
   "outputs": [],
   "source": [
    "nlp = spacy.load('en_core_web_sm')"
   ]
  },
  {
   "cell_type": "code",
   "execution_count": 92,
   "id": "involved-dispatch",
   "metadata": {},
   "outputs": [],
   "source": [
    "punct = string.punctuation"
   ]
  },
  {
   "cell_type": "code",
   "execution_count": 96,
   "id": "floating-default",
   "metadata": {},
   "outputs": [],
   "source": [
    "Tfid = TfidfVectorizer()"
   ]
  },
  {
   "cell_type": "code",
   "execution_count": 97,
   "id": "close-trance",
   "metadata": {},
   "outputs": [],
   "source": [
    "classif = MLPClassifier()"
   ]
  },
  {
   "cell_type": "code",
   "execution_count": 98,
   "id": "annoying-morning",
   "metadata": {},
   "outputs": [
    {
     "data": {
      "text/plain": [
       "((93750, 1), (31250, 1))"
      ]
     },
     "execution_count": 98,
     "metadata": {},
     "output_type": "execute_result"
    }
   ],
   "source": [
    "X_train.shape, X_test.shape"
   ]
  },
  {
   "cell_type": "code",
   "execution_count": 99,
   "id": "disciplinary-cream",
   "metadata": {},
   "outputs": [],
   "source": [
    "clf = Pipeline([('tfidf', Tfid),('clf', classif)])"
   ]
  },
  {
   "cell_type": "code",
   "execution_count": 74,
   "id": "protecting-small",
   "metadata": {},
   "outputs": [],
   "source": [
    "def cleaner(s):\n",
    "    doc = nlp(s)\n",
    "    tokens = []\n",
    "    for token in doc:\n",
    "        if token.lemma_ != \"-PRON-\":\n",
    "          temp = token.lemma_.lower().strip()\n",
    "        else:\n",
    "          temp = token.lower_\n",
    "        tokens.append(temp)\n",
    "    cleaned_tokens = []\n",
    "    for token in tokens:\n",
    "        if token not in punct:\n",
    "            cleaned_tokens.append(token)\n",
    "    return cleaned_tokens\n",
    "        "
   ]
  },
  {
   "cell_type": "code",
   "execution_count": 100,
   "id": "executive-effort",
   "metadata": {},
   "outputs": [
    {
     "data": {
      "text/plain": [
       "Pipeline(steps=[('tfidf', TfidfVectorizer()), ('clf', MLPClassifier())])"
      ]
     },
     "execution_count": 100,
     "metadata": {},
     "output_type": "execute_result"
    }
   ],
   "source": [
    "clf.fit(X_train[0], y_train[0])"
   ]
  },
  {
   "cell_type": "code",
   "execution_count": 101,
   "id": "loaded-denver",
   "metadata": {},
   "outputs": [],
   "source": [
    "y_pred = clf.predict(X_test[0])"
   ]
  },
  {
   "cell_type": "code",
   "execution_count": 102,
   "id": "express-straight",
   "metadata": {},
   "outputs": [],
   "source": [
    "from sklearn.metrics import accuracy_score"
   ]
  },
  {
   "cell_type": "code",
   "execution_count": 103,
   "id": "communist-courage",
   "metadata": {},
   "outputs": [
    {
     "data": {
      "text/plain": [
       "0.828384"
      ]
     },
     "execution_count": 103,
     "metadata": {},
     "output_type": "execute_result"
    }
   ],
   "source": [
    "accuracy_score(y_test, y_pred)"
   ]
  },
  {
   "cell_type": "code",
   "execution_count": null,
   "id": "israeli-consideration",
   "metadata": {},
   "outputs": [],
   "source": []
  }
 ],
 "metadata": {
  "kernelspec": {
   "display_name": "Python 3",
   "language": "python",
   "name": "python3"
  },
  "language_info": {
   "codemirror_mode": {
    "name": "ipython",
    "version": 3
   },
   "file_extension": ".py",
   "mimetype": "text/x-python",
   "name": "python",
   "nbconvert_exporter": "python",
   "pygments_lexer": "ipython3",
   "version": "3.8.6"
  }
 },
 "nbformat": 4,
 "nbformat_minor": 5
}
